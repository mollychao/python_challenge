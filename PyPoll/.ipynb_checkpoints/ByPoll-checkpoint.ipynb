{
 "cells": [
  {
   "cell_type": "code",
   "execution_count": 4,
   "metadata": {},
   "outputs": [
    {
     "name": "stdout",
     "output_type": "stream",
     "text": [
      "3521001\n"
     ]
    }
   ],
   "source": [
    "#import the data set\n",
    "import os\n",
    "import csv\n",
    "\n",
    "poll_csv = os.path.join(\"Resources\", \"election_data.csv\")\n",
    "\n",
    "# Open and read csv\n",
    "with open(poll_csv) as csvfile:\n",
    "    csvreader = csv.reader(csvfile, delimiter=\",\")\n",
    "    #print(csvreader)\n",
    "    # Read the header row first (skip this part if there is no header)\n",
    "    csv_header = next(csvfile)\n",
    "    #print(f\"Header: {csv_header}\")\n",
    "\n",
    "#total number of months included in the dataset, total count of the rows in column1\n",
    "    data = [l for l in csvreader]\n",
    "    row_count = len(data)\n",
    "    print (row_count)"
   ]
  },
  {
   "cell_type": "code",
   "execution_count": null,
   "metadata": {},
   "outputs": [],
   "source": [
    "#A complete list of candidates who received votes\n",
    "voters = []\n",
    "# loop all the rows, and extract the  column\n",
    "for i in range(len(data)-1):\n",
    "    votername=data[i][2]\n",
    "    print(votername)\n",
    "    #add each results into the average list\n",
    "    voters.append(votername)\n",
    "\n",
    "unique_voters = set(voters)\n",
    "unique_voters_count = len(unique_voters)"
   ]
  },
  {
   "cell_type": "code",
   "execution_count": null,
   "metadata": {},
   "outputs": [],
   "source": []
  }
 ],
 "metadata": {
  "kernelspec": {
   "display_name": "Python 3",
   "language": "python",
   "name": "python3"
  },
  "language_info": {
   "codemirror_mode": {
    "name": "ipython",
    "version": 3
   },
   "file_extension": ".py",
   "mimetype": "text/x-python",
   "name": "python",
   "nbconvert_exporter": "python",
   "pygments_lexer": "ipython3",
   "version": "3.7.4"
  }
 },
 "nbformat": 4,
 "nbformat_minor": 4
}
